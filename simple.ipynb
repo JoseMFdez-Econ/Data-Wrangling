{
 "cells": [
  {
   "cell_type": "code",
   "execution_count": 15,
   "metadata": {
    "collapsed": false
   },
   "outputs": [],
   "source": [
    "# Your task is to read the input DATAFILE line by line, and for the first 10 lines (not including the header)\n",
    "# split each line on \",\" and then for each line, create a dictionary\n",
    "# where the key is the header title of the field, and the value is the value of that field in the row.\n",
    "# The function parse_file should return a list of dictionaries,\n",
    "# each data line in the file being a single list entry.\n",
    "# Field names and values should not contain extra whitespace, like spaces or newline characters.\n",
    "# You can use the Python string method strip() to remove the extra whitespace.\n",
    "# You have to parse only the first 10 data lines in this exercise,\n",
    "# so the returned list should have 10 entries!\n",
    "import os\n",
    "\n",
    "DATADIR = \"/Users/josemanuelfernandez/Documents/Udacity/Data_Analyst/P3/Data-Wrangling/Lesson-1/\"\n",
    "DATAFILE = \"beatles-diskography.csv\"\n",
    "\n",
    "\n",
    "def parse_file(datafile):\n",
    "    data = []\n",
    "    # 'rb' 'reads-binary': allows python to be more flexible in reading what's in the file.\n",
    "    with open(datafile, \"rb\") as f:\n",
    "        \n",
    "        # The method readlines() reads until EOF using readline() and returns a list \n",
    "        # containing the lines.\n",
    "        # Reads first line of file and split it using \",\"\n",
    "        # This gives you a list of values you can use as 'keys items' for the \n",
    "        # data items you pull on from the data file later on.\n",
    "        header = f.readline().split(\",\") # By getting the 'headers' you use them as 'key'\n",
    "                                         # and the lines split (by commas) as values\n",
    "        #print header # These are the keys\n",
    "        \n",
    "        counter = 0\n",
    "        for line in f: # Loop over the lines on the file 'f'\n",
    "            if counter == 10: # Counter-> Makes sure considers up to the 10th line (not inclusive)\n",
    "                break # Break if we have read 10 lines\n",
    "            \n",
    "            #print line # Execute-> you only see each line separated by commas\n",
    "            \n",
    "            # For every line up to the 10th line \n",
    "            # We split the line again using the comma delimeter\n",
    "            fields = line.split(',')\n",
    "            #print fields # 'fields' are lists with the values\n",
    "            entry = {} # Initialize an empty dictionary. The entry is going to be the data item\n",
    "                       # that will construct using the 'keys' we got from the first \n",
    "                       # line of the file ('header') and the indiviual line we processed obove (field)\n",
    "            \n",
    "            # Constructs the dictionary with the key-value pais.\n",
    "            # By using 'enumerate' we get an 'index' value in addition to a value \n",
    "            # for each item in the 'fields' list\n",
    "            for i, value in enumerate(fields):\n",
    "                #print i, value # i-> from 0-10 fields/variables (keys); \n",
    "                                # value-> each corresponding value per line\n",
    "                entry[header[i].strip()] = value.strip() # Assigns appropiate 'value' corresponding to each\n",
    "                                            # field ('header') for that the i_th key for that particular field\n",
    "            # Use 'strip()' to clean any empty space\n",
    "            \n",
    "            data.append(entry)\n",
    "            counter += 1\n",
    "                    \n",
    "    return data\n",
    "\n",
    "#parse_file(DATAFILE)"
   ]
  },
  {
   "cell_type": "code",
   "execution_count": 16,
   "metadata": {
    "collapsed": false
   },
   "outputs": [
    {
     "ename": "AssertionError",
     "evalue": "",
     "output_type": "error",
     "traceback": [
      "\u001b[0;31m---------------------------------------------------------------------------\u001b[0m",
      "\u001b[0;31mAssertionError\u001b[0m                            Traceback (most recent call last)",
      "\u001b[0;32m<ipython-input-16-d9d6434d8312>\u001b[0m in \u001b[0;36m<module>\u001b[0;34m()\u001b[0m\n\u001b[1;32m     12\u001b[0m \u001b[0;34m\u001b[0m\u001b[0m\n\u001b[1;32m     13\u001b[0m \u001b[0;34m\u001b[0m\u001b[0m\n\u001b[0;32m---> 14\u001b[0;31m \u001b[0mtest\u001b[0m\u001b[0;34m(\u001b[0m\u001b[0;34m)\u001b[0m\u001b[0;34m\u001b[0m\u001b[0m\n\u001b[0m",
      "\u001b[0;32m<ipython-input-16-d9d6434d8312>\u001b[0m in \u001b[0;36mtest\u001b[0;34m()\u001b[0m\n\u001b[1;32m      8\u001b[0m     \u001b[0mtenthline\u001b[0m \u001b[0;34m=\u001b[0m \u001b[0;34m{\u001b[0m\u001b[0;34m'Title'\u001b[0m\u001b[0;34m:\u001b[0m \u001b[0;34m''\u001b[0m\u001b[0;34m,\u001b[0m \u001b[0;34m'UK Chart Position'\u001b[0m\u001b[0;34m:\u001b[0m \u001b[0;34m'1'\u001b[0m\u001b[0;34m,\u001b[0m \u001b[0;34m'Label'\u001b[0m\u001b[0;34m:\u001b[0m \u001b[0;34m'Parlophone(UK)'\u001b[0m\u001b[0;34m,\u001b[0m \u001b[0;34m'Released'\u001b[0m\u001b[0;34m:\u001b[0m \u001b[0;34m'10 July 1964'\u001b[0m\u001b[0;34m,\u001b[0m \u001b[0;34m'US Chart Position'\u001b[0m\u001b[0;34m:\u001b[0m \u001b[0;34m'-'\u001b[0m\u001b[0;34m,\u001b[0m \u001b[0;34m'RIAA Certification'\u001b[0m\u001b[0;34m:\u001b[0m \u001b[0;34m''\u001b[0m\u001b[0;34m,\u001b[0m \u001b[0;34m'BPI Certification'\u001b[0m\u001b[0;34m:\u001b[0m \u001b[0;34m'Gold'\u001b[0m\u001b[0;34m}\u001b[0m\u001b[0;34m\u001b[0m\u001b[0m\n\u001b[1;32m      9\u001b[0m \u001b[0;34m\u001b[0m\u001b[0m\n\u001b[0;32m---> 10\u001b[0;31m     \u001b[0;32massert\u001b[0m \u001b[0md\u001b[0m\u001b[0;34m[\u001b[0m\u001b[0;36m0\u001b[0m\u001b[0;34m]\u001b[0m \u001b[0;34m==\u001b[0m \u001b[0mfirstline\u001b[0m\u001b[0;34m\u001b[0m\u001b[0m\n\u001b[0m\u001b[1;32m     11\u001b[0m     \u001b[0;32massert\u001b[0m \u001b[0md\u001b[0m\u001b[0;34m[\u001b[0m\u001b[0;36m9\u001b[0m\u001b[0;34m]\u001b[0m \u001b[0;34m==\u001b[0m \u001b[0mtenthline\u001b[0m\u001b[0;34m\u001b[0m\u001b[0m\n\u001b[1;32m     12\u001b[0m \u001b[0;34m\u001b[0m\u001b[0m\n",
      "\u001b[0;31mAssertionError\u001b[0m: "
     ]
    }
   ],
   "source": [
    "## Test program\n",
    "\n",
    "def test():\n",
    "    # a simple test of your implemetation\n",
    "    datafile = os.path.join(DATADIR, DATAFILE)\n",
    "    d = parse_file(datafile)\n",
    "    firstline = {'Title': 'Please Please Me', 'UK Chart Position': '1', 'Label': 'Parlophone(UK)', 'Released': '22 March 1963', 'US Chart Position': '-', 'RIAA Certification': 'Platinum', 'BPI Certification': 'Gold'}\n",
    "    tenthline = {'Title': '', 'UK Chart Position': '1', 'Label': 'Parlophone(UK)', 'Released': '10 July 1964', 'US Chart Position': '-', 'RIAA Certification': '', 'BPI Certification': 'Gold'}\n",
    "\n",
    "    assert d[0] == firstline\n",
    "    assert d[9] == tenthline\n",
    "\n",
    "    \n",
    "test()"
   ]
  },
  {
   "cell_type": "code",
   "execution_count": null,
   "metadata": {
    "collapsed": true
   },
   "outputs": [],
   "source": []
  }
 ],
 "metadata": {
  "anaconda-cloud": {},
  "kernelspec": {
   "display_name": "Python [conda env:py27]",
   "language": "python",
   "name": "conda-env-py27-py"
  },
  "language_info": {
   "codemirror_mode": {
    "name": "ipython",
    "version": 2
   },
   "file_extension": ".py",
   "mimetype": "text/x-python",
   "name": "python",
   "nbconvert_exporter": "python",
   "pygments_lexer": "ipython2",
   "version": "2.7.12"
  }
 },
 "nbformat": 4,
 "nbformat_minor": 1
}
